{
 "cells": [
  {
   "cell_type": "code",
   "execution_count": 1,
   "id": "8cecb338",
   "metadata": {
    "execution": {
     "iopub.execute_input": "2022-06-30T15:26:01.899168Z",
     "iopub.status.busy": "2022-06-30T15:26:01.898590Z",
     "iopub.status.idle": "2022-06-30T15:26:08.413032Z",
     "shell.execute_reply": "2022-06-30T15:26:08.412068Z"
    },
    "papermill": {
     "duration": 6.523009,
     "end_time": "2022-06-30T15:26:08.415471",
     "exception": false,
     "start_time": "2022-06-30T15:26:01.892462",
     "status": "completed"
    },
    "tags": []
   },
   "outputs": [],
   "source": [
    "import numpy as np\n",
    "import matplotlib.pyplot as plt\n",
    "import cv2\n",
    "from keras.models import Model, Sequential\n",
    "from keras.layers import Dense, Flatten, Conv2D, MaxPooling2D\n",
    "from tensorflow.keras.layers import BatchNormalization\n",
    "import os \n",
    "import seaborn as sns "
   ]
  },
  {
   "cell_type": "code",
   "execution_count": 2,
   "id": "5e5342dc",
   "metadata": {
    "execution": {
     "iopub.execute_input": "2022-06-30T15:26:08.424586Z",
     "iopub.status.busy": "2022-06-30T15:26:08.424044Z",
     "iopub.status.idle": "2022-06-30T15:26:08.433645Z",
     "shell.execute_reply": "2022-06-30T15:26:08.432554Z"
    },
    "papermill": {
     "duration": 0.016708,
     "end_time": "2022-06-30T15:26:08.436039",
     "exception": false,
     "start_time": "2022-06-30T15:26:08.419331",
     "status": "completed"
    },
    "tags": []
   },
   "outputs": [
    {
     "name": "stdout",
     "output_type": "stream",
     "text": [
      "['no', 'yes', 'brain_tumor_dataset']\n"
     ]
    }
   ],
   "source": [
    "print(os.listdir(r'../input/brain-mri-images-for-brain-tumor-detection'))"
   ]
  },
  {
   "cell_type": "code",
   "execution_count": 3,
   "id": "c845c41c",
   "metadata": {
    "execution": {
     "iopub.execute_input": "2022-06-30T15:26:08.444466Z",
     "iopub.status.busy": "2022-06-30T15:26:08.444188Z",
     "iopub.status.idle": "2022-06-30T15:26:09.806125Z",
     "shell.execute_reply": "2022-06-30T15:26:09.805034Z"
    },
    "papermill": {
     "duration": 1.368759,
     "end_time": "2022-06-30T15:26:09.808494",
     "exception": false,
     "start_time": "2022-06-30T15:26:08.439735",
     "status": "completed"
    },
    "tags": []
   },
   "outputs": [],
   "source": [
    "size=128\n",
    "images=[]\n",
    "labels=[]\n",
    "#0 for normal, 1 for tumour\n",
    "\n",
    "for root,dirs,files in os.walk('../input/brain-mri-images-for-brain-tumor-detection/yes'):\n",
    "    for file in files:\n",
    "        if 'jpg' in file:\n",
    "            img=cv2.imread(os.path.join(root,file))\n",
    "            img= cv2.resize(img,(size,size))\n",
    "            images.append(img)\n",
    "            labels.append(1)\n",
    "            \n",
    "for root,dirs,files in os.walk('../input/brain-mri-images-for-brain-tumor-detection/no'):\n",
    "    for file in files:\n",
    "        if 'jpg' in file:\n",
    "            img=cv2.imread(os.path.join(root,file))\n",
    "            img= cv2.resize(img,(size,size))\n",
    "            images.append(img)\n",
    "            labels.append(0)\n",
    "            \n",
    "images=np.array(images)\n",
    "labels=np.array(labels)\n",
    "            \n",
    "\n",
    "            \n",
    "            "
   ]
  },
  {
   "cell_type": "code",
   "execution_count": 4,
   "id": "8a76ad3a",
   "metadata": {
    "execution": {
     "iopub.execute_input": "2022-06-30T15:26:09.817663Z",
     "iopub.status.busy": "2022-06-30T15:26:09.817380Z",
     "iopub.status.idle": "2022-06-30T15:26:10.008048Z",
     "shell.execute_reply": "2022-06-30T15:26:10.007016Z"
    },
    "papermill": {
     "duration": 0.198089,
     "end_time": "2022-06-30T15:26:10.010611",
     "exception": false,
     "start_time": "2022-06-30T15:26:09.812522",
     "status": "completed"
    },
    "tags": []
   },
   "outputs": [],
   "source": [
    "from sklearn.model_selection import train_test_split\n",
    "X_train,X_test,y_train,y_test=train_test_split(images,labels,test_size=0.3)\n",
    "X_train=X_train/255\n",
    "X_test=X_test/255\n",
    "    "
   ]
  },
  {
   "cell_type": "code",
   "execution_count": 5,
   "id": "bafe6d4b",
   "metadata": {
    "execution": {
     "iopub.execute_input": "2022-06-30T15:26:10.020232Z",
     "iopub.status.busy": "2022-06-30T15:26:10.019939Z",
     "iopub.status.idle": "2022-06-30T15:26:10.027826Z",
     "shell.execute_reply": "2022-06-30T15:26:10.026950Z"
    },
    "papermill": {
     "duration": 0.014617,
     "end_time": "2022-06-30T15:26:10.029778",
     "exception": false,
     "start_time": "2022-06-30T15:26:10.015161",
     "status": "completed"
    },
    "tags": []
   },
   "outputs": [
    {
     "data": {
      "text/plain": [
       "(119, 128, 128, 3)"
      ]
     },
     "execution_count": 5,
     "metadata": {},
     "output_type": "execute_result"
    }
   ],
   "source": [
    "X_train.shape"
   ]
  },
  {
   "cell_type": "code",
   "execution_count": 6,
   "id": "df54bd3d",
   "metadata": {
    "execution": {
     "iopub.execute_input": "2022-06-30T15:26:10.038572Z",
     "iopub.status.busy": "2022-06-30T15:26:10.038260Z",
     "iopub.status.idle": "2022-06-30T15:26:42.487653Z",
     "shell.execute_reply": "2022-06-30T15:26:42.486676Z"
    },
    "papermill": {
     "duration": 32.456343,
     "end_time": "2022-06-30T15:26:42.489986",
     "exception": false,
     "start_time": "2022-06-30T15:26:10.033643",
     "status": "completed"
    },
    "tags": []
   },
   "outputs": [
    {
     "name": "stderr",
     "output_type": "stream",
     "text": [
      "2022-06-30 15:26:10.117992: I tensorflow/stream_executor/cuda/cuda_gpu_executor.cc:937] successful NUMA node read from SysFS had negative value (-1), but there must be at least one NUMA node, so returning NUMA node zero\n",
      "2022-06-30 15:26:10.209436: I tensorflow/stream_executor/cuda/cuda_gpu_executor.cc:937] successful NUMA node read from SysFS had negative value (-1), but there must be at least one NUMA node, so returning NUMA node zero\n",
      "2022-06-30 15:26:10.210331: I tensorflow/stream_executor/cuda/cuda_gpu_executor.cc:937] successful NUMA node read from SysFS had negative value (-1), but there must be at least one NUMA node, so returning NUMA node zero\n",
      "2022-06-30 15:26:10.211621: I tensorflow/core/platform/cpu_feature_guard.cc:142] This TensorFlow binary is optimized with oneAPI Deep Neural Network Library (oneDNN) to use the following CPU instructions in performance-critical operations:  AVX2 AVX512F FMA\n",
      "To enable them in other operations, rebuild TensorFlow with the appropriate compiler flags.\n",
      "2022-06-30 15:26:10.212002: I tensorflow/stream_executor/cuda/cuda_gpu_executor.cc:937] successful NUMA node read from SysFS had negative value (-1), but there must be at least one NUMA node, so returning NUMA node zero\n",
      "2022-06-30 15:26:10.212794: I tensorflow/stream_executor/cuda/cuda_gpu_executor.cc:937] successful NUMA node read from SysFS had negative value (-1), but there must be at least one NUMA node, so returning NUMA node zero\n",
      "2022-06-30 15:26:10.213517: I tensorflow/stream_executor/cuda/cuda_gpu_executor.cc:937] successful NUMA node read from SysFS had negative value (-1), but there must be at least one NUMA node, so returning NUMA node zero\n",
      "2022-06-30 15:26:12.352952: I tensorflow/stream_executor/cuda/cuda_gpu_executor.cc:937] successful NUMA node read from SysFS had negative value (-1), but there must be at least one NUMA node, so returning NUMA node zero\n",
      "2022-06-30 15:26:12.353776: I tensorflow/stream_executor/cuda/cuda_gpu_executor.cc:937] successful NUMA node read from SysFS had negative value (-1), but there must be at least one NUMA node, so returning NUMA node zero\n",
      "2022-06-30 15:26:12.354496: I tensorflow/stream_executor/cuda/cuda_gpu_executor.cc:937] successful NUMA node read from SysFS had negative value (-1), but there must be at least one NUMA node, so returning NUMA node zero\n",
      "2022-06-30 15:26:12.355106: I tensorflow/core/common_runtime/gpu/gpu_device.cc:1510] Created device /job:localhost/replica:0/task:0/device:GPU:0 with 15403 MB memory:  -> device: 0, name: Tesla P100-PCIE-16GB, pci bus id: 0000:00:04.0, compute capability: 6.0\n",
      "2022-06-30 15:26:12.912802: I tensorflow/compiler/mlir/mlir_graph_optimization_pass.cc:185] None of the MLIR Optimization Passes are enabled (registered 2)\n"
     ]
    },
    {
     "name": "stdout",
     "output_type": "stream",
     "text": [
      "Epoch 1/120\n"
     ]
    },
    {
     "name": "stderr",
     "output_type": "stream",
     "text": [
      "2022-06-30 15:26:14.745410: I tensorflow/stream_executor/cuda/cuda_dnn.cc:369] Loaded cuDNN version 8005\n"
     ]
    },
    {
     "name": "stdout",
     "output_type": "stream",
     "text": [
      "2/2 [==============================] - 10s 2s/step - loss: 216.3761 - accuracy: 0.5294 - val_loss: 2.1042 - val_accuracy: 0.4423\n",
      "Epoch 2/120\n",
      "2/2 [==============================] - 0s 100ms/step - loss: 88.7617 - accuracy: 0.5462 - val_loss: 0.8291 - val_accuracy: 0.5769\n",
      "Epoch 3/120\n",
      "2/2 [==============================] - 0s 96ms/step - loss: 15.4029 - accuracy: 0.5126 - val_loss: 0.7395 - val_accuracy: 0.6731\n",
      "Epoch 4/120\n",
      "2/2 [==============================] - 0s 95ms/step - loss: 3.8394 - accuracy: 0.7899 - val_loss: 0.9166 - val_accuracy: 0.7115\n",
      "Epoch 5/120\n",
      "2/2 [==============================] - 0s 95ms/step - loss: 1.2548 - accuracy: 0.7983 - val_loss: 1.3643 - val_accuracy: 0.7500\n",
      "Epoch 6/120\n",
      "2/2 [==============================] - 0s 95ms/step - loss: 1.2716 - accuracy: 0.7815 - val_loss: 1.8744 - val_accuracy: 0.7692\n",
      "Epoch 7/120\n",
      "2/2 [==============================] - 0s 94ms/step - loss: 0.2473 - accuracy: 0.9496 - val_loss: 2.4489 - val_accuracy: 0.6923\n",
      "Epoch 8/120\n",
      "2/2 [==============================] - 0s 97ms/step - loss: 0.0842 - accuracy: 0.9496 - val_loss: 3.3925 - val_accuracy: 0.6346\n",
      "Epoch 9/120\n",
      "2/2 [==============================] - 0s 92ms/step - loss: 0.1461 - accuracy: 0.9412 - val_loss: 4.6251 - val_accuracy: 0.6346\n",
      "Epoch 10/120\n",
      "2/2 [==============================] - 0s 96ms/step - loss: 0.6526 - accuracy: 0.8151 - val_loss: 5.9192 - val_accuracy: 0.6346\n",
      "Epoch 11/120\n",
      "2/2 [==============================] - 0s 96ms/step - loss: 5.2975 - accuracy: 0.5966 - val_loss: 6.2049 - val_accuracy: 0.6346\n",
      "Epoch 12/120\n",
      "2/2 [==============================] - 0s 95ms/step - loss: 1.8448 - accuracy: 0.8403 - val_loss: 7.1208 - val_accuracy: 0.6154\n",
      "Epoch 13/120\n",
      "2/2 [==============================] - 0s 96ms/step - loss: 0.0598 - accuracy: 0.9748 - val_loss: 8.4519 - val_accuracy: 0.6346\n",
      "Epoch 14/120\n",
      "2/2 [==============================] - 0s 94ms/step - loss: 0.0343 - accuracy: 0.9832 - val_loss: 9.8664 - val_accuracy: 0.5962\n",
      "Epoch 15/120\n",
      "2/2 [==============================] - 0s 94ms/step - loss: 0.0270 - accuracy: 0.9832 - val_loss: 11.1850 - val_accuracy: 0.5577\n",
      "Epoch 16/120\n",
      "2/2 [==============================] - 0s 91ms/step - loss: 0.0117 - accuracy: 0.9916 - val_loss: 12.5574 - val_accuracy: 0.5577\n",
      "Epoch 17/120\n",
      "2/2 [==============================] - 0s 92ms/step - loss: 0.0112 - accuracy: 0.9916 - val_loss: 13.8929 - val_accuracy: 0.5577\n",
      "Epoch 18/120\n",
      "2/2 [==============================] - 0s 91ms/step - loss: 0.0096 - accuracy: 0.9916 - val_loss: 15.1732 - val_accuracy: 0.5577\n",
      "Epoch 19/120\n",
      "2/2 [==============================] - 0s 91ms/step - loss: 0.0098 - accuracy: 0.9916 - val_loss: 16.4116 - val_accuracy: 0.5577\n",
      "Epoch 20/120\n",
      "2/2 [==============================] - 0s 91ms/step - loss: 0.0089 - accuracy: 0.9916 - val_loss: 17.6055 - val_accuracy: 0.5577\n",
      "Epoch 21/120\n",
      "2/2 [==============================] - 0s 91ms/step - loss: 0.0085 - accuracy: 0.9916 - val_loss: 18.7299 - val_accuracy: 0.5577\n",
      "Epoch 22/120\n",
      "2/2 [==============================] - 0s 91ms/step - loss: 0.0083 - accuracy: 0.9916 - val_loss: 19.8359 - val_accuracy: 0.5577\n",
      "Epoch 23/120\n",
      "2/2 [==============================] - 0s 90ms/step - loss: 0.0080 - accuracy: 0.9916 - val_loss: 20.9016 - val_accuracy: 0.5577\n",
      "Epoch 24/120\n",
      "2/2 [==============================] - 0s 91ms/step - loss: 0.0078 - accuracy: 0.9916 - val_loss: 21.9323 - val_accuracy: 0.5577\n",
      "Epoch 25/120\n",
      "2/2 [==============================] - 0s 91ms/step - loss: 0.0073 - accuracy: 0.9916 - val_loss: 22.9248 - val_accuracy: 0.5577\n",
      "Epoch 26/120\n",
      "2/2 [==============================] - 0s 94ms/step - loss: 0.0072 - accuracy: 0.9916 - val_loss: 23.8825 - val_accuracy: 0.5577\n",
      "Epoch 27/120\n",
      "2/2 [==============================] - 0s 108ms/step - loss: 0.0072 - accuracy: 0.9916 - val_loss: 24.8024 - val_accuracy: 0.5577\n",
      "Epoch 28/120\n",
      "2/2 [==============================] - 0s 111ms/step - loss: 0.0071 - accuracy: 0.9916 - val_loss: 25.7417 - val_accuracy: 0.5577\n",
      "Epoch 29/120\n",
      "2/2 [==============================] - 0s 103ms/step - loss: 0.0069 - accuracy: 0.9916 - val_loss: 26.6065 - val_accuracy: 0.5577\n",
      "Epoch 30/120\n",
      "2/2 [==============================] - 0s 113ms/step - loss: 0.0068 - accuracy: 0.9916 - val_loss: 27.4403 - val_accuracy: 0.5577\n",
      "Epoch 31/120\n",
      "2/2 [==============================] - 0s 94ms/step - loss: 0.0100 - accuracy: 0.9916 - val_loss: 28.6338 - val_accuracy: 0.5577\n",
      "Epoch 32/120\n",
      "2/2 [==============================] - 0s 94ms/step - loss: 0.0097 - accuracy: 0.9916 - val_loss: 29.3879 - val_accuracy: 0.5577\n",
      "Epoch 33/120\n",
      "2/2 [==============================] - 0s 93ms/step - loss: 0.0067 - accuracy: 0.9916 - val_loss: 30.1558 - val_accuracy: 0.5577\n",
      "Epoch 34/120\n",
      "2/2 [==============================] - 0s 94ms/step - loss: 0.0066 - accuracy: 0.9916 - val_loss: 30.8876 - val_accuracy: 0.5577\n",
      "Epoch 35/120\n",
      "2/2 [==============================] - 0s 94ms/step - loss: 0.0065 - accuracy: 1.0000 - val_loss: 31.5950 - val_accuracy: 0.5577\n",
      "Epoch 36/120\n",
      "2/2 [==============================] - 0s 93ms/step - loss: 0.0064 - accuracy: 1.0000 - val_loss: 32.2649 - val_accuracy: 0.5577\n",
      "Epoch 37/120\n",
      "2/2 [==============================] - 0s 94ms/step - loss: 0.0063 - accuracy: 1.0000 - val_loss: 32.9169 - val_accuracy: 0.5577\n",
      "Epoch 38/120\n",
      "2/2 [==============================] - 0s 94ms/step - loss: 0.0063 - accuracy: 1.0000 - val_loss: 33.5643 - val_accuracy: 0.5577\n",
      "Epoch 39/120\n",
      "2/2 [==============================] - 0s 94ms/step - loss: 0.0063 - accuracy: 1.0000 - val_loss: 34.1646 - val_accuracy: 0.5577\n",
      "Epoch 40/120\n",
      "2/2 [==============================] - 0s 92ms/step - loss: 0.0062 - accuracy: 1.0000 - val_loss: 34.7490 - val_accuracy: 0.5577\n",
      "Epoch 41/120\n",
      "2/2 [==============================] - 0s 93ms/step - loss: 0.0061 - accuracy: 1.0000 - val_loss: 35.3503 - val_accuracy: 0.5577\n",
      "Epoch 42/120\n",
      "2/2 [==============================] - 0s 101ms/step - loss: 0.0061 - accuracy: 1.0000 - val_loss: 35.9257 - val_accuracy: 0.5577\n",
      "Epoch 43/120\n",
      "2/2 [==============================] - 0s 96ms/step - loss: 0.0060 - accuracy: 1.0000 - val_loss: 36.5367 - val_accuracy: 0.5577\n",
      "Epoch 44/120\n",
      "2/2 [==============================] - 0s 94ms/step - loss: 0.0061 - accuracy: 1.0000 - val_loss: 37.1462 - val_accuracy: 0.5577\n",
      "Epoch 45/120\n",
      "2/2 [==============================] - 0s 95ms/step - loss: 0.0060 - accuracy: 1.0000 - val_loss: 37.7026 - val_accuracy: 0.5577\n",
      "Epoch 46/120\n",
      "2/2 [==============================] - 0s 98ms/step - loss: 0.0060 - accuracy: 1.0000 - val_loss: 38.2059 - val_accuracy: 0.5577\n",
      "Epoch 47/120\n",
      "2/2 [==============================] - 0s 96ms/step - loss: 0.0059 - accuracy: 1.0000 - val_loss: 38.6974 - val_accuracy: 0.5577\n",
      "Epoch 48/120\n",
      "2/2 [==============================] - 0s 98ms/step - loss: 0.0060 - accuracy: 1.0000 - val_loss: 39.1311 - val_accuracy: 0.5577\n",
      "Epoch 49/120\n",
      "2/2 [==============================] - 0s 91ms/step - loss: 0.0059 - accuracy: 1.0000 - val_loss: 39.5366 - val_accuracy: 0.5577\n",
      "Epoch 50/120\n",
      "2/2 [==============================] - 0s 91ms/step - loss: 0.0058 - accuracy: 1.0000 - val_loss: 39.9146 - val_accuracy: 0.5577\n",
      "Epoch 51/120\n",
      "2/2 [==============================] - 0s 90ms/step - loss: 0.0109 - accuracy: 0.9916 - val_loss: 41.5666 - val_accuracy: 0.5577\n",
      "Epoch 52/120\n",
      "2/2 [==============================] - 0s 94ms/step - loss: 4.6693 - accuracy: 0.7731 - val_loss: 60.0703 - val_accuracy: 0.5769\n",
      "Epoch 53/120\n",
      "2/2 [==============================] - 0s 92ms/step - loss: 167.8498 - accuracy: 0.5546 - val_loss: 87.2229 - val_accuracy: 0.5577\n",
      "Epoch 54/120\n",
      "2/2 [==============================] - 0s 92ms/step - loss: 7.2027 - accuracy: 0.7647 - val_loss: 43.6984 - val_accuracy: 0.5577\n",
      "Epoch 55/120\n",
      "2/2 [==============================] - 0s 90ms/step - loss: 2.0332 - accuracy: 0.8655 - val_loss: 40.7400 - val_accuracy: 0.5577\n",
      "Epoch 56/120\n",
      "2/2 [==============================] - 0s 90ms/step - loss: 0.3986 - accuracy: 0.8739 - val_loss: 40.8834 - val_accuracy: 0.5577\n",
      "Epoch 57/120\n",
      "2/2 [==============================] - 0s 90ms/step - loss: 0.1353 - accuracy: 0.9328 - val_loss: 41.2262 - val_accuracy: 0.5577\n",
      "Epoch 58/120\n",
      "2/2 [==============================] - 0s 94ms/step - loss: 0.0903 - accuracy: 0.9664 - val_loss: 42.8686 - val_accuracy: 0.5577\n",
      "Epoch 59/120\n",
      "2/2 [==============================] - 0s 90ms/step - loss: 0.0601 - accuracy: 0.9832 - val_loss: 44.3001 - val_accuracy: 0.5577\n",
      "Epoch 60/120\n",
      "2/2 [==============================] - 0s 93ms/step - loss: 0.0491 - accuracy: 0.9832 - val_loss: 45.4248 - val_accuracy: 0.5577\n",
      "Epoch 61/120\n",
      "2/2 [==============================] - 0s 91ms/step - loss: 0.0367 - accuracy: 0.9916 - val_loss: 47.0212 - val_accuracy: 0.5577\n",
      "Epoch 62/120\n",
      "2/2 [==============================] - 0s 91ms/step - loss: 0.0190 - accuracy: 0.9916 - val_loss: 47.8471 - val_accuracy: 0.5577\n",
      "Epoch 63/120\n",
      "2/2 [==============================] - 0s 97ms/step - loss: 0.0135 - accuracy: 1.0000 - val_loss: 48.7740 - val_accuracy: 0.5577\n",
      "Epoch 64/120\n",
      "2/2 [==============================] - 0s 94ms/step - loss: 0.0083 - accuracy: 1.0000 - val_loss: 49.4749 - val_accuracy: 0.5577\n",
      "Epoch 65/120\n",
      "2/2 [==============================] - 0s 94ms/step - loss: 0.0073 - accuracy: 1.0000 - val_loss: 50.2204 - val_accuracy: 0.5577\n",
      "Epoch 66/120\n",
      "2/2 [==============================] - 0s 91ms/step - loss: 0.0043 - accuracy: 1.0000 - val_loss: 51.1357 - val_accuracy: 0.5577\n",
      "Epoch 67/120\n",
      "2/2 [==============================] - 0s 92ms/step - loss: 0.0041 - accuracy: 1.0000 - val_loss: 52.1366 - val_accuracy: 0.5577\n",
      "Epoch 68/120\n",
      "2/2 [==============================] - 0s 90ms/step - loss: 0.0026 - accuracy: 1.0000 - val_loss: 52.9391 - val_accuracy: 0.5577\n",
      "Epoch 69/120\n",
      "2/2 [==============================] - 0s 92ms/step - loss: 0.0023 - accuracy: 1.0000 - val_loss: 53.7423 - val_accuracy: 0.5577\n",
      "Epoch 70/120\n",
      "2/2 [==============================] - 0s 93ms/step - loss: 0.0025 - accuracy: 1.0000 - val_loss: 54.6909 - val_accuracy: 0.5577\n",
      "Epoch 71/120\n",
      "2/2 [==============================] - 0s 89ms/step - loss: 0.0025 - accuracy: 1.0000 - val_loss: 55.0605 - val_accuracy: 0.5577\n",
      "Epoch 72/120\n",
      "2/2 [==============================] - 0s 90ms/step - loss: 0.0015 - accuracy: 1.0000 - val_loss: 55.7635 - val_accuracy: 0.5577\n",
      "Epoch 73/120\n",
      "2/2 [==============================] - 0s 91ms/step - loss: 0.0016 - accuracy: 1.0000 - val_loss: 56.4695 - val_accuracy: 0.5577\n",
      "Epoch 74/120\n",
      "2/2 [==============================] - 0s 90ms/step - loss: 0.0013 - accuracy: 1.0000 - val_loss: 57.1090 - val_accuracy: 0.5577\n",
      "Epoch 75/120\n",
      "2/2 [==============================] - 0s 95ms/step - loss: 0.0012 - accuracy: 1.0000 - val_loss: 57.7334 - val_accuracy: 0.5577\n",
      "Epoch 76/120\n",
      "2/2 [==============================] - 0s 93ms/step - loss: 8.7675e-04 - accuracy: 1.0000 - val_loss: 58.2839 - val_accuracy: 0.5577\n",
      "Epoch 77/120\n",
      "2/2 [==============================] - 0s 91ms/step - loss: 8.8640e-04 - accuracy: 1.0000 - val_loss: 58.8377 - val_accuracy: 0.5577\n",
      "Epoch 78/120\n",
      "2/2 [==============================] - 0s 91ms/step - loss: 7.8786e-04 - accuracy: 1.0000 - val_loss: 59.3438 - val_accuracy: 0.5577\n",
      "Epoch 79/120\n",
      "2/2 [==============================] - 0s 91ms/step - loss: 8.1755e-04 - accuracy: 1.0000 - val_loss: 60.0451 - val_accuracy: 0.5577\n",
      "Epoch 80/120\n",
      "2/2 [==============================] - 0s 91ms/step - loss: 9.7137e-04 - accuracy: 1.0000 - val_loss: 60.1800 - val_accuracy: 0.5577\n",
      "Epoch 81/120\n",
      "2/2 [==============================] - 0s 91ms/step - loss: 0.0016 - accuracy: 1.0000 - val_loss: 60.9650 - val_accuracy: 0.5577\n",
      "Epoch 82/120\n",
      "2/2 [==============================] - 0s 90ms/step - loss: 7.7882e-04 - accuracy: 1.0000 - val_loss: 61.0224 - val_accuracy: 0.5577\n",
      "Epoch 83/120\n",
      "2/2 [==============================] - 0s 89ms/step - loss: 4.1242e-04 - accuracy: 1.0000 - val_loss: 61.4876 - val_accuracy: 0.5577\n",
      "Epoch 84/120\n",
      "2/2 [==============================] - 0s 90ms/step - loss: 3.5923e-04 - accuracy: 1.0000 - val_loss: 62.0854 - val_accuracy: 0.5577\n",
      "Epoch 85/120\n",
      "2/2 [==============================] - 0s 92ms/step - loss: 1.8888e-04 - accuracy: 1.0000 - val_loss: 62.4172 - val_accuracy: 0.5577\n",
      "Epoch 86/120\n",
      "2/2 [==============================] - 0s 91ms/step - loss: 1.8419e-04 - accuracy: 1.0000 - val_loss: 62.7451 - val_accuracy: 0.5577\n",
      "Epoch 87/120\n",
      "2/2 [==============================] - 0s 93ms/step - loss: 1.6918e-04 - accuracy: 1.0000 - val_loss: 63.0411 - val_accuracy: 0.5577\n",
      "Epoch 88/120\n",
      "2/2 [==============================] - 0s 94ms/step - loss: 1.2380e-04 - accuracy: 1.0000 - val_loss: 63.2976 - val_accuracy: 0.5577\n",
      "Epoch 89/120\n",
      "2/2 [==============================] - 0s 92ms/step - loss: 1.3290e-04 - accuracy: 1.0000 - val_loss: 63.5345 - val_accuracy: 0.5577\n",
      "Epoch 90/120\n",
      "2/2 [==============================] - 0s 92ms/step - loss: 1.2389e-04 - accuracy: 1.0000 - val_loss: 63.7674 - val_accuracy: 0.5577\n",
      "Epoch 91/120\n",
      "2/2 [==============================] - 0s 92ms/step - loss: 9.9790e-05 - accuracy: 1.0000 - val_loss: 63.9599 - val_accuracy: 0.5577\n",
      "Epoch 92/120\n",
      "2/2 [==============================] - 0s 94ms/step - loss: 1.2636e-04 - accuracy: 1.0000 - val_loss: 63.9295 - val_accuracy: 0.5577\n",
      "Epoch 93/120\n",
      "2/2 [==============================] - 0s 92ms/step - loss: 1.0222e-04 - accuracy: 1.0000 - val_loss: 64.0865 - val_accuracy: 0.5577\n",
      "Epoch 94/120\n",
      "2/2 [==============================] - 0s 92ms/step - loss: 8.7288e-05 - accuracy: 1.0000 - val_loss: 64.1373 - val_accuracy: 0.5577\n",
      "Epoch 95/120\n",
      "2/2 [==============================] - 0s 112ms/step - loss: 6.2859e-05 - accuracy: 1.0000 - val_loss: 64.2255 - val_accuracy: 0.5577\n",
      "Epoch 96/120\n",
      "2/2 [==============================] - 0s 108ms/step - loss: 5.8918e-05 - accuracy: 1.0000 - val_loss: 64.2181 - val_accuracy: 0.5577\n",
      "Epoch 97/120\n",
      "2/2 [==============================] - 0s 107ms/step - loss: 5.0979e-05 - accuracy: 1.0000 - val_loss: 64.2410 - val_accuracy: 0.5577\n",
      "Epoch 98/120\n",
      "2/2 [==============================] - 0s 101ms/step - loss: 5.2866e-05 - accuracy: 1.0000 - val_loss: 64.2943 - val_accuracy: 0.5577\n",
      "Epoch 99/120\n",
      "2/2 [==============================] - 0s 93ms/step - loss: 4.2700e-05 - accuracy: 1.0000 - val_loss: 64.2265 - val_accuracy: 0.5577\n",
      "Epoch 100/120\n",
      "2/2 [==============================] - 0s 99ms/step - loss: 4.4376e-05 - accuracy: 1.0000 - val_loss: 64.1787 - val_accuracy: 0.5577\n",
      "Epoch 101/120\n",
      "2/2 [==============================] - 0s 92ms/step - loss: 3.7789e-05 - accuracy: 1.0000 - val_loss: 64.0712 - val_accuracy: 0.5577\n",
      "Epoch 102/120\n",
      "2/2 [==============================] - 0s 95ms/step - loss: 3.6165e-05 - accuracy: 1.0000 - val_loss: 64.0054 - val_accuracy: 0.5577\n",
      "Epoch 103/120\n",
      "2/2 [==============================] - 0s 95ms/step - loss: 3.2330e-05 - accuracy: 1.0000 - val_loss: 63.9760 - val_accuracy: 0.5577\n",
      "Epoch 104/120\n",
      "2/2 [==============================] - 0s 91ms/step - loss: 2.9637e-05 - accuracy: 1.0000 - val_loss: 63.8122 - val_accuracy: 0.5577\n",
      "Epoch 105/120\n",
      "2/2 [==============================] - 0s 91ms/step - loss: 2.5894e-05 - accuracy: 1.0000 - val_loss: 63.5987 - val_accuracy: 0.5577\n",
      "Epoch 106/120\n",
      "2/2 [==============================] - 0s 91ms/step - loss: 2.8513e-05 - accuracy: 1.0000 - val_loss: 63.5039 - val_accuracy: 0.5577\n",
      "Epoch 107/120\n",
      "2/2 [==============================] - 0s 91ms/step - loss: 2.0755e-05 - accuracy: 1.0000 - val_loss: 63.1287 - val_accuracy: 0.5577\n",
      "Epoch 108/120\n",
      "2/2 [==============================] - 0s 91ms/step - loss: 1.7182e-05 - accuracy: 1.0000 - val_loss: 62.8925 - val_accuracy: 0.5577\n",
      "Epoch 109/120\n",
      "2/2 [==============================] - 0s 90ms/step - loss: 2.0785e-05 - accuracy: 1.0000 - val_loss: 62.6932 - val_accuracy: 0.5577\n",
      "Epoch 110/120\n",
      "2/2 [==============================] - 0s 93ms/step - loss: 1.7172e-05 - accuracy: 1.0000 - val_loss: 62.3341 - val_accuracy: 0.5577\n",
      "Epoch 111/120\n",
      "2/2 [==============================] - 0s 92ms/step - loss: 1.1901e-05 - accuracy: 1.0000 - val_loss: 62.0335 - val_accuracy: 0.5577\n",
      "Epoch 112/120\n",
      "2/2 [==============================] - 0s 92ms/step - loss: 1.4771e-05 - accuracy: 1.0000 - val_loss: 61.2337 - val_accuracy: 0.5577\n",
      "Epoch 113/120\n",
      "2/2 [==============================] - 0s 91ms/step - loss: 1.1345e-05 - accuracy: 1.0000 - val_loss: 61.0761 - val_accuracy: 0.5577\n",
      "Epoch 114/120\n",
      "2/2 [==============================] - 0s 92ms/step - loss: 1.0027e-05 - accuracy: 1.0000 - val_loss: 60.7281 - val_accuracy: 0.5577\n",
      "Epoch 115/120\n",
      "2/2 [==============================] - 0s 92ms/step - loss: 9.0683e-06 - accuracy: 1.0000 - val_loss: 60.5320 - val_accuracy: 0.5577\n",
      "Epoch 116/120\n",
      "2/2 [==============================] - 0s 91ms/step - loss: 1.0018e-05 - accuracy: 1.0000 - val_loss: 60.1974 - val_accuracy: 0.5577\n",
      "Epoch 117/120\n",
      "2/2 [==============================] - 0s 94ms/step - loss: 1.0346e-05 - accuracy: 1.0000 - val_loss: 59.9359 - val_accuracy: 0.5577\n",
      "Epoch 118/120\n",
      "2/2 [==============================] - 0s 100ms/step - loss: 5.7461e-06 - accuracy: 1.0000 - val_loss: 59.4904 - val_accuracy: 0.5577\n",
      "Epoch 119/120\n",
      "2/2 [==============================] - 0s 93ms/step - loss: 5.5241e-06 - accuracy: 1.0000 - val_loss: 59.0181 - val_accuracy: 0.5577\n",
      "Epoch 120/120\n",
      "2/2 [==============================] - 0s 92ms/step - loss: 7.7529e-06 - accuracy: 1.0000 - val_loss: 58.5773 - val_accuracy: 0.5577\n"
     ]
    }
   ],
   "source": [
    "#Creating a custom CNN:\n",
    "feature_extractor= Sequential()\n",
    "feature_extractor.add(Conv2D(32,3,activation='relu',padding='same',input_shape=(128,128,3)))\n",
    "feature_extractor.add(BatchNormalization())\n",
    "\n",
    "feature_extractor.add(Conv2D(64,3,activation='relu',padding='same'))\n",
    "feature_extractor.add(BatchNormalization())\n",
    "feature_extractor.add(MaxPooling2D())\n",
    "\n",
    "feature_extractor.add(Conv2D(64,3,activation='relu',padding='same'))\n",
    "feature_extractor.add(BatchNormalization())\n",
    "\n",
    "feature_extractor.add(Conv2D(128,3,activation='relu',padding='same'))\n",
    "feature_extractor.add(BatchNormalization())\n",
    "feature_extractor.add(MaxPooling2D())\n",
    "\n",
    "feature_extractor.add(Flatten())\n",
    "x=Dense(128, activation='relu')(feature_extractor.output)\n",
    "pred= Dense(1, activation='sigmoid')(x)\n",
    "\n",
    "model=Model(inputs=feature_extractor.input,outputs=pred)\n",
    "model.compile(optimizer='rmsprop',loss='binary_crossentropy', metrics=['accuracy'])\n",
    "history= model.fit(X_train, y_train, epochs=120, validation_data=(X_test,y_test),batch_size=64)\n"
   ]
  },
  {
   "cell_type": "code",
   "execution_count": 7,
   "id": "dee4f3df",
   "metadata": {
    "execution": {
     "iopub.execute_input": "2022-06-30T15:26:42.556248Z",
     "iopub.status.busy": "2022-06-30T15:26:42.555931Z",
     "iopub.status.idle": "2022-06-30T15:26:42.949327Z",
     "shell.execute_reply": "2022-06-30T15:26:42.948291Z"
    },
    "papermill": {
     "duration": 0.42946,
     "end_time": "2022-06-30T15:26:42.951506",
     "exception": false,
     "start_time": "2022-06-30T15:26:42.522046",
     "status": "completed"
    },
    "tags": []
   },
   "outputs": [
    {
     "data": {
      "image/png": "[encoded data removed]",
      "text/plain": [
       "<Figure size 432x288 with 1 Axes>"
      ]
     },
     "metadata": {
      "needs_background": "light"
     },
     "output_type": "display_data"
    },
    {
     "data": {
      "image/png": "[encoded data removed]",
      "text/plain": [
       "<Figure size 432x288 with 1 Axes>"
      ]
     },
     "metadata": {
      "needs_background": "light"
     },
     "output_type": "display_data"
    }
   ],
   "source": [
    "import pandas as pd\n",
    "history_frame = pd.DataFrame(history.history)\n",
    "history_frame.loc[:, ['loss','val_loss']].plot()\n",
    "history_frame.loc[:, ['accuracy','val_accuracy']].plot();"
   ]
  },
  {
   "cell_type": "markdown",
   "id": "6366aa6d",
   "metadata": {
    "papermill": {
     "duration": 0.033945,
     "end_time": "2022-06-30T15:26:43.019788",
     "exception": false,
     "start_time": "2022-06-30T15:26:42.985843",
     "status": "completed"
    },
    "tags": []
   },
   "source": [
    "From these plots, we can see that there is an issue with the model - the validation accuracy is not increasing despite the fact the loss has decreased. This is most likely due to overfitting the data. One way we could solve this is by adding more training data, which could help decrease the variance. This could be done by augmenting the data, i.e changing the image slightly, so there is more data for the model to learn on but it is not hugely changed (e.g rotating by an angle)"
   ]
  },
  {
   "cell_type": "code",
   "execution_count": 8,
   "id": "71b8d502",
   "metadata": {
    "execution": {
     "iopub.execute_input": "2022-06-30T15:26:43.087984Z",
     "iopub.status.busy": "2022-06-30T15:26:43.086962Z",
     "iopub.status.idle": "2022-06-30T15:26:44.052470Z",
     "shell.execute_reply": "2022-06-30T15:26:44.051482Z"
    },
    "papermill": {
     "duration": 1.002196,
     "end_time": "2022-06-30T15:26:44.054866",
     "exception": false,
     "start_time": "2022-06-30T15:26:43.052670",
     "status": "completed"
    },
    "tags": []
   },
   "outputs": [
    {
     "name": "stdout",
     "output_type": "stream",
     "text": [
      "Downloading data from https://storage.googleapis.com/tensorflow/keras-applications/vgg16/vgg16_weights_tf_dim_ordering_tf_kernels_notop.h5\n",
      "58892288/58889256 [==============================] - 0s 0us/step\n",
      "58900480/58889256 [==============================] - 0s 0us/step\n"
     ]
    }
   ],
   "source": [
    "from keras.applications.vgg16 import VGG16\n",
    "\n",
    "VGG_model= VGG16(weights='imagenet',include_top=False, input_shape=(size,size,3))\n",
    "for layer in VGG_model.layers:\n",
    "    layer.trainable=False\n",
    "\n",
    "    "
   ]
  },
  {
   "cell_type": "code",
   "execution_count": 9,
   "id": "5e0748ce",
   "metadata": {
    "execution": {
     "iopub.execute_input": "2022-06-30T15:26:44.124005Z",
     "iopub.status.busy": "2022-06-30T15:26:44.122899Z",
     "iopub.status.idle": "2022-06-30T15:26:46.310334Z",
     "shell.execute_reply": "2022-06-30T15:26:46.309338Z"
    },
    "papermill": {
     "duration": 2.224546,
     "end_time": "2022-06-30T15:26:46.313002",
     "exception": false,
     "start_time": "2022-06-30T15:26:44.088456",
     "status": "completed"
    },
    "tags": []
   },
   "outputs": [],
   "source": [
    "feature_extractor=VGG_model.predict(X_train)\n",
    "features= feature_extractor.reshape(feature_extractor.shape[0],-1) #input for random forest needs to be 2D array (no. of samples, )"
   ]
  },
  {
   "cell_type": "code",
   "execution_count": 10,
   "id": "57f66c18",
   "metadata": {
    "execution": {
     "iopub.execute_input": "2022-06-30T15:26:46.381093Z",
     "iopub.status.busy": "2022-06-30T15:26:46.380752Z",
     "iopub.status.idle": "2022-06-30T15:26:46.387028Z",
     "shell.execute_reply": "2022-06-30T15:26:46.386024Z"
    },
    "papermill": {
     "duration": 0.042513,
     "end_time": "2022-06-30T15:26:46.388940",
     "exception": false,
     "start_time": "2022-06-30T15:26:46.346427",
     "status": "completed"
    },
    "tags": []
   },
   "outputs": [
    {
     "data": {
      "text/plain": [
       "(119, 8192)"
      ]
     },
     "execution_count": 10,
     "metadata": {},
     "output_type": "execute_result"
    }
   ],
   "source": [
    "features.shape #confirmed in the correct format"
   ]
  },
  {
   "cell_type": "code",
   "execution_count": 11,
   "id": "79914b08",
   "metadata": {
    "execution": {
     "iopub.execute_input": "2022-06-30T15:26:46.459475Z",
     "iopub.status.busy": "2022-06-30T15:26:46.459075Z",
     "iopub.status.idle": "2022-06-30T15:26:48.085143Z",
     "shell.execute_reply": "2022-06-30T15:26:48.083383Z"
    },
    "papermill": {
     "duration": 1.664308,
     "end_time": "2022-06-30T15:26:48.088116",
     "exception": false,
     "start_time": "2022-06-30T15:26:46.423808",
     "status": "completed"
    },
    "tags": []
   },
   "outputs": [
    {
     "name": "stdout",
     "output_type": "stream",
     "text": [
      "Accuracy=0.8269230769230769\n"
     ]
    }
   ],
   "source": [
    "from sklearn.ensemble import RandomForestClassifier\n",
    "from sklearn import metrics\n",
    "rf= RandomForestClassifier(n_estimators=50)\n",
    "rf.fit(features, y_train)\n",
    "x_test_features= VGG_model.predict(X_test)\n",
    "x_test_feature=x_test_features.reshape(x_test_features.shape[0],-1)\n",
    "pred= rf.predict(x_test_feature)\n",
    "print (f'Accuracy={metrics.accuracy_score(y_test,pred)}')"
   ]
  },
  {
   "cell_type": "code",
   "execution_count": null,
   "id": "2a5f89a4",
   "metadata": {
    "papermill": {
     "duration": 0.033216,
     "end_time": "2022-06-30T15:26:48.155641",
     "exception": false,
     "start_time": "2022-06-30T15:26:48.122425",
     "status": "completed"
    },
    "tags": []
   },
   "outputs": [],
   "source": []
  }
 ],
 "metadata": {
  "kernelspec": {
   "display_name": "Python 3",
   "language": "python",
   "name": "python3"
  },
  "language_info": {
   "codemirror_mode": {
    "name": "ipython",
    "version": 3
   },
   "file_extension": ".py",
   "mimetype": "text/x-python",
   "name": "python",
   "nbconvert_exporter": "python",
   "pygments_lexer": "ipython3",
   "version": "3.7.12"
  },
  "papermill": {
   "default_parameters": {},
   "duration": 57.546234,
   "end_time": "2022-06-30T15:26:51.190558",
   "environment_variables": {},
   "exception": null,
   "input_path": "__notebook__.ipynb",
   "output_path": "__notebook__.ipynb",
   "parameters": {},
   "start_time": "2022-06-30T15:25:53.644324",
   "version": "2.3.4"
  }
 },
 "nbformat": 4,
 "nbformat_minor": 5
}
